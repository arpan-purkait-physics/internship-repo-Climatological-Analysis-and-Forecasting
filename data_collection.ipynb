{
  "nbformat": 4,
  "nbformat_minor": 0,
  "metadata": {
    "colab": {
      "provenance": []
    },
    "kernelspec": {
      "name": "python3",
      "display_name": "Python 3"
    },
    "language_info": {
      "name": "python"
    }
  },
  "cells": [
    {
      "cell_type": "code",
      "execution_count": null,
      "metadata": {
        "colab": {
          "base_uri": "https://localhost:8080/"
        },
        "id": "QF44KMgFqE9T",
        "outputId": "9b42cc85-eb8b-4913-a37c-86b402bf8c7b"
      },
      "outputs": [
        {
          "output_type": "stream",
          "name": "stdout",
          "text": [
            "Drive already mounted at /content/drive; to attempt to forcibly remount, call drive.mount(\"/content/drive\", force_remount=True).\n",
            "Requirement already satisfied: imdlib in /usr/local/lib/python3.11/dist-packages (0.1.20)\n",
            "Requirement already satisfied: matplotlib in /usr/local/lib/python3.11/dist-packages (from imdlib) (3.10.0)\n",
            "Requirement already satisfied: numpy in /usr/local/lib/python3.11/dist-packages (from imdlib) (2.0.2)\n",
            "Requirement already satisfied: pandas in /usr/local/lib/python3.11/dist-packages (from imdlib) (2.2.2)\n",
            "Requirement already satisfied: six in /usr/local/lib/python3.11/dist-packages (from imdlib) (1.17.0)\n",
            "Requirement already satisfied: python-dateutil in /usr/local/lib/python3.11/dist-packages (from imdlib) (2.8.2)\n",
            "Requirement already satisfied: pytz in /usr/local/lib/python3.11/dist-packages (from imdlib) (2025.2)\n",
            "Requirement already satisfied: urllib3 in /usr/local/lib/python3.11/dist-packages (from imdlib) (2.3.0)\n",
            "Requirement already satisfied: scipy in /usr/local/lib/python3.11/dist-packages (from imdlib) (1.14.1)\n",
            "Requirement already satisfied: xarray in /usr/local/lib/python3.11/dist-packages (from imdlib) (2025.1.2)\n",
            "Requirement already satisfied: requests in /usr/local/lib/python3.11/dist-packages (from imdlib) (2.32.3)\n",
            "Requirement already satisfied: contourpy>=1.0.1 in /usr/local/lib/python3.11/dist-packages (from matplotlib->imdlib) (1.3.1)\n",
            "Requirement already satisfied: cycler>=0.10 in /usr/local/lib/python3.11/dist-packages (from matplotlib->imdlib) (0.12.1)\n",
            "Requirement already satisfied: fonttools>=4.22.0 in /usr/local/lib/python3.11/dist-packages (from matplotlib->imdlib) (4.57.0)\n",
            "Requirement already satisfied: kiwisolver>=1.3.1 in /usr/local/lib/python3.11/dist-packages (from matplotlib->imdlib) (1.4.8)\n",
            "Requirement already satisfied: packaging>=20.0 in /usr/local/lib/python3.11/dist-packages (from matplotlib->imdlib) (24.2)\n",
            "Requirement already satisfied: pillow>=8 in /usr/local/lib/python3.11/dist-packages (from matplotlib->imdlib) (11.1.0)\n",
            "Requirement already satisfied: pyparsing>=2.3.1 in /usr/local/lib/python3.11/dist-packages (from matplotlib->imdlib) (3.2.3)\n",
            "Requirement already satisfied: tzdata>=2022.7 in /usr/local/lib/python3.11/dist-packages (from pandas->imdlib) (2025.2)\n",
            "Requirement already satisfied: charset-normalizer<4,>=2 in /usr/local/lib/python3.11/dist-packages (from requests->imdlib) (3.4.1)\n",
            "Requirement already satisfied: idna<4,>=2.5 in /usr/local/lib/python3.11/dist-packages (from requests->imdlib) (3.10)\n",
            "Requirement already satisfied: certifi>=2017.4.17 in /usr/local/lib/python3.11/dist-packages (from requests->imdlib) (2025.1.31)\n"
          ]
        }
      ],
      "source": [
        "from google.colab import drive\n",
        "drive.mount('/content/drive')\n",
        "\n",
        "!pip install imdlib\n",
        "import imdlib as imd"
      ]
    },
    {
      "cell_type": "code",
      "source": [
        "path = \"/content/drive/MyDrive/ISI-Kolkata_Internship\""
      ],
      "metadata": {
        "id": "kSurxyGiqqx4"
      },
      "execution_count": null,
      "outputs": []
    },
    {
      "cell_type": "code",
      "source": [
        "variables = ['rain', 'tmax', 'tmin']\n",
        "data_ = {}"
      ],
      "metadata": {
        "id": "GolNi2S7rAgX"
      },
      "execution_count": null,
      "outputs": []
    },
    {
      "cell_type": "code",
      "source": [
        "start_yr = 2012\n",
        "end_yr = 2023"
      ],
      "metadata": {
        "id": "X1BtF2rArPtD"
      },
      "execution_count": null,
      "outputs": []
    },
    {
      "cell_type": "code",
      "source": [
        "for var in variables:\n",
        "    data_[var] = imd.get_data(var, start_yr, end_yr, fn_format='yearwise', file_dir=path)"
      ],
      "metadata": {
        "colab": {
          "base_uri": "https://localhost:8080/"
        },
        "id": "-4YRvWoTrX06",
        "outputId": "d7a86f28-8105-47be-afd5-58f9056f92dc"
      },
      "execution_count": null,
      "outputs": [
        {
          "output_type": "stream",
          "name": "stdout",
          "text": [
            "Downloading: rain for year 2012\n",
            "Downloading: rain for year 2013\n",
            "Downloading: rain for year 2014\n",
            "Downloading: rain for year 2015\n",
            "Downloading: rain for year 2016\n",
            "Downloading: rain for year 2017\n",
            "Downloading: rain for year 2018\n",
            "Downloading: rain for year 2019\n",
            "Downloading: rain for year 2020\n",
            "Downloading: rain for year 2021\n",
            "Downloading: rain for year 2022\n",
            "Downloading: rain for year 2023\n",
            "Download Successful !!!\n",
            "Downloading: maxtemp for year 2012\n",
            "Downloading: maxtemp for year 2013\n",
            "Downloading: maxtemp for year 2014\n",
            "Downloading: maxtemp for year 2015\n",
            "Downloading: maxtemp for year 2016\n",
            "Downloading: maxtemp for year 2017\n",
            "Downloading: maxtemp for year 2018\n",
            "Downloading: maxtemp for year 2019\n",
            "Downloading: maxtemp for year 2020\n",
            "Downloading: maxtemp for year 2021\n",
            "Downloading: maxtemp for year 2022\n",
            "Downloading: maxtemp for year 2023\n",
            "Download Successful !!!\n",
            "Downloading: mintemp for year 2012\n",
            "Downloading: mintemp for year 2013\n",
            "Downloading: mintemp for year 2014\n",
            "Downloading: mintemp for year 2015\n",
            "Downloading: mintemp for year 2016\n",
            "Downloading: mintemp for year 2017\n",
            "Downloading: mintemp for year 2018\n",
            "Downloading: mintemp for year 2019\n",
            "Downloading: mintemp for year 2020\n",
            "Downloading: mintemp for year 2021\n",
            "Downloading: mintemp for year 2022\n",
            "Downloading: mintemp for year 2023\n",
            "Download Successful !!!\n"
          ]
        }
      ]
    },
    {
      "cell_type": "code",
      "source": [
        "data2 = imd.open_data('tmax', start_yr, end_yr, fn_format='yearwise', file_dir=path)\n",
        "ds2 = data2.get_xarray()\n",
        "print(ds2)\n",
        "#data2.shape\n",
        "#print(\"Available Latitudes:\", ds2.latitude.values)\n",
        "#print(\"Available Longitudes:\", ds2.longitude.values)"
      ],
      "metadata": {
        "colab": {
          "base_uri": "https://localhost:8080/"
        },
        "id": "t46LcZKmtwtv",
        "outputId": "0b195477-51a4-49c3-d675-a6478c34723b"
      },
      "execution_count": null,
      "outputs": [
        {
          "output_type": "stream",
          "name": "stdout",
          "text": [
            "<xarray.Dataset> Size: 34MB\n",
            "Dimensions:  (time: 4383, lat: 31, lon: 31)\n",
            "Coordinates:\n",
            "  * lat      (lat) float64 248B 7.5 8.5 9.5 10.5 11.5 ... 34.5 35.5 36.5 37.5\n",
            "  * lon      (lon) float64 248B 67.5 68.5 69.5 70.5 71.5 ... 94.5 95.5 96.5 97.5\n",
            "  * time     (time) datetime64[ns] 35kB 2012-01-01 2012-01-02 ... 2023-12-31\n",
            "Data variables:\n",
            "    tmax     (time, lat, lon) float64 34MB 99.9 99.9 99.9 ... 99.9 99.9 99.9\n",
            "Attributes:\n",
            "    Conventions:  CF-1.7\n",
            "    title:        IMD gridded data\n",
            "    source:       https://imdpune.gov.in/\n",
            "    history:      2025-04-18 12:52:32.648189 Python\n",
            "    references:   \n",
            "    comment:      \n",
            "    crs:          epsg:4326\n"
          ]
        }
      ]
    },
    {
      "cell_type": "code",
      "source": [
        "import numpy as np"
      ],
      "metadata": {
        "id": "Fu4CaBRDwr_i"
      },
      "execution_count": null,
      "outputs": []
    },
    {
      "cell_type": "code",
      "source": [
        "lat_list = np.arange(8.0, 37.0, 1)  # 21.5 to 25.5\n",
        "lon_list = np.arange(69.0, 97.0, 1)  # 85.5 to 89.5\n",
        "\n",
        "print(len(lat_list))\n",
        "print(len(lon_list))"
      ],
      "metadata": {
        "colab": {
          "base_uri": "https://localhost:8080/"
        },
        "id": "jgUBDjkXxrsT",
        "outputId": "30fb4747-8ce7-42a6-ebeb-ec803644903f"
      },
      "execution_count": null,
      "outputs": [
        {
          "output_type": "stream",
          "name": "stdout",
          "text": [
            "29\n",
            "28\n"
          ]
        }
      ]
    },
    {
      "cell_type": "code",
      "source": [
        "lat_lon_pairs = [(float(lat), float(lon)) for lat in lat_list for lon in lon_list]\n",
        "print(lat_lon_pairs)\n",
        "print(len(lat_lon_pairs))"
      ],
      "metadata": {
        "colab": {
          "base_uri": "https://localhost:8080/"
        },
        "id": "27CDhpd_yGRp",
        "outputId": "a47ec395-7f3c-4f5b-91a1-761691732297"
      },
      "execution_count": null,
      "outputs": [
        {
          "output_type": "stream",
          "name": "stdout",
          "text": [
            "[(8.0, 69.0), (8.0, 70.0), (8.0, 71.0), (8.0, 72.0), (8.0, 73.0), (8.0, 74.0), (8.0, 75.0), (8.0, 76.0), (8.0, 77.0), (8.0, 78.0), (8.0, 79.0), (8.0, 80.0), (8.0, 81.0), (8.0, 82.0), (8.0, 83.0), (8.0, 84.0), (8.0, 85.0), (8.0, 86.0), (8.0, 87.0), (8.0, 88.0), (8.0, 89.0), (8.0, 90.0), (8.0, 91.0), (8.0, 92.0), (8.0, 93.0), (8.0, 94.0), (8.0, 95.0), (8.0, 96.0), (9.0, 69.0), (9.0, 70.0), (9.0, 71.0), (9.0, 72.0), (9.0, 73.0), (9.0, 74.0), (9.0, 75.0), (9.0, 76.0), (9.0, 77.0), (9.0, 78.0), (9.0, 79.0), (9.0, 80.0), (9.0, 81.0), (9.0, 82.0), (9.0, 83.0), (9.0, 84.0), (9.0, 85.0), (9.0, 86.0), (9.0, 87.0), (9.0, 88.0), (9.0, 89.0), (9.0, 90.0), (9.0, 91.0), (9.0, 92.0), (9.0, 93.0), (9.0, 94.0), (9.0, 95.0), (9.0, 96.0), (10.0, 69.0), (10.0, 70.0), (10.0, 71.0), (10.0, 72.0), (10.0, 73.0), (10.0, 74.0), (10.0, 75.0), (10.0, 76.0), (10.0, 77.0), (10.0, 78.0), (10.0, 79.0), (10.0, 80.0), (10.0, 81.0), (10.0, 82.0), (10.0, 83.0), (10.0, 84.0), (10.0, 85.0), (10.0, 86.0), (10.0, 87.0), (10.0, 88.0), (10.0, 89.0), (10.0, 90.0), (10.0, 91.0), (10.0, 92.0), (10.0, 93.0), (10.0, 94.0), (10.0, 95.0), (10.0, 96.0), (11.0, 69.0), (11.0, 70.0), (11.0, 71.0), (11.0, 72.0), (11.0, 73.0), (11.0, 74.0), (11.0, 75.0), (11.0, 76.0), (11.0, 77.0), (11.0, 78.0), (11.0, 79.0), (11.0, 80.0), (11.0, 81.0), (11.0, 82.0), (11.0, 83.0), (11.0, 84.0), (11.0, 85.0), (11.0, 86.0), (11.0, 87.0), (11.0, 88.0), (11.0, 89.0), (11.0, 90.0), (11.0, 91.0), (11.0, 92.0), (11.0, 93.0), (11.0, 94.0), (11.0, 95.0), (11.0, 96.0), (12.0, 69.0), (12.0, 70.0), (12.0, 71.0), (12.0, 72.0), (12.0, 73.0), (12.0, 74.0), (12.0, 75.0), (12.0, 76.0), (12.0, 77.0), (12.0, 78.0), (12.0, 79.0), (12.0, 80.0), (12.0, 81.0), (12.0, 82.0), (12.0, 83.0), (12.0, 84.0), (12.0, 85.0), (12.0, 86.0), (12.0, 87.0), (12.0, 88.0), (12.0, 89.0), (12.0, 90.0), (12.0, 91.0), (12.0, 92.0), (12.0, 93.0), (12.0, 94.0), (12.0, 95.0), (12.0, 96.0), (13.0, 69.0), (13.0, 70.0), (13.0, 71.0), (13.0, 72.0), (13.0, 73.0), (13.0, 74.0), (13.0, 75.0), (13.0, 76.0), (13.0, 77.0), (13.0, 78.0), (13.0, 79.0), (13.0, 80.0), (13.0, 81.0), (13.0, 82.0), (13.0, 83.0), (13.0, 84.0), (13.0, 85.0), (13.0, 86.0), (13.0, 87.0), (13.0, 88.0), (13.0, 89.0), (13.0, 90.0), (13.0, 91.0), (13.0, 92.0), (13.0, 93.0), (13.0, 94.0), (13.0, 95.0), (13.0, 96.0), (14.0, 69.0), (14.0, 70.0), (14.0, 71.0), (14.0, 72.0), (14.0, 73.0), (14.0, 74.0), (14.0, 75.0), (14.0, 76.0), (14.0, 77.0), (14.0, 78.0), (14.0, 79.0), (14.0, 80.0), (14.0, 81.0), (14.0, 82.0), (14.0, 83.0), (14.0, 84.0), (14.0, 85.0), (14.0, 86.0), (14.0, 87.0), (14.0, 88.0), (14.0, 89.0), (14.0, 90.0), (14.0, 91.0), (14.0, 92.0), (14.0, 93.0), (14.0, 94.0), (14.0, 95.0), (14.0, 96.0), (15.0, 69.0), (15.0, 70.0), (15.0, 71.0), (15.0, 72.0), (15.0, 73.0), (15.0, 74.0), (15.0, 75.0), (15.0, 76.0), (15.0, 77.0), (15.0, 78.0), (15.0, 79.0), (15.0, 80.0), (15.0, 81.0), (15.0, 82.0), (15.0, 83.0), (15.0, 84.0), (15.0, 85.0), (15.0, 86.0), (15.0, 87.0), (15.0, 88.0), (15.0, 89.0), (15.0, 90.0), (15.0, 91.0), (15.0, 92.0), (15.0, 93.0), (15.0, 94.0), (15.0, 95.0), (15.0, 96.0), (16.0, 69.0), (16.0, 70.0), (16.0, 71.0), (16.0, 72.0), (16.0, 73.0), (16.0, 74.0), (16.0, 75.0), (16.0, 76.0), (16.0, 77.0), (16.0, 78.0), (16.0, 79.0), (16.0, 80.0), (16.0, 81.0), (16.0, 82.0), (16.0, 83.0), (16.0, 84.0), (16.0, 85.0), (16.0, 86.0), (16.0, 87.0), (16.0, 88.0), (16.0, 89.0), (16.0, 90.0), (16.0, 91.0), (16.0, 92.0), (16.0, 93.0), (16.0, 94.0), (16.0, 95.0), (16.0, 96.0), (17.0, 69.0), (17.0, 70.0), (17.0, 71.0), (17.0, 72.0), (17.0, 73.0), (17.0, 74.0), (17.0, 75.0), (17.0, 76.0), (17.0, 77.0), (17.0, 78.0), (17.0, 79.0), (17.0, 80.0), (17.0, 81.0), (17.0, 82.0), (17.0, 83.0), (17.0, 84.0), (17.0, 85.0), (17.0, 86.0), (17.0, 87.0), (17.0, 88.0), (17.0, 89.0), (17.0, 90.0), (17.0, 91.0), (17.0, 92.0), (17.0, 93.0), (17.0, 94.0), (17.0, 95.0), (17.0, 96.0), (18.0, 69.0), (18.0, 70.0), (18.0, 71.0), (18.0, 72.0), (18.0, 73.0), (18.0, 74.0), (18.0, 75.0), (18.0, 76.0), (18.0, 77.0), (18.0, 78.0), (18.0, 79.0), (18.0, 80.0), (18.0, 81.0), (18.0, 82.0), (18.0, 83.0), (18.0, 84.0), (18.0, 85.0), (18.0, 86.0), (18.0, 87.0), (18.0, 88.0), (18.0, 89.0), (18.0, 90.0), (18.0, 91.0), (18.0, 92.0), (18.0, 93.0), (18.0, 94.0), (18.0, 95.0), (18.0, 96.0), (19.0, 69.0), (19.0, 70.0), (19.0, 71.0), (19.0, 72.0), (19.0, 73.0), (19.0, 74.0), (19.0, 75.0), (19.0, 76.0), (19.0, 77.0), (19.0, 78.0), (19.0, 79.0), (19.0, 80.0), (19.0, 81.0), (19.0, 82.0), (19.0, 83.0), (19.0, 84.0), (19.0, 85.0), (19.0, 86.0), (19.0, 87.0), (19.0, 88.0), (19.0, 89.0), (19.0, 90.0), (19.0, 91.0), (19.0, 92.0), (19.0, 93.0), (19.0, 94.0), (19.0, 95.0), (19.0, 96.0), (20.0, 69.0), (20.0, 70.0), (20.0, 71.0), (20.0, 72.0), (20.0, 73.0), (20.0, 74.0), (20.0, 75.0), (20.0, 76.0), (20.0, 77.0), (20.0, 78.0), (20.0, 79.0), (20.0, 80.0), (20.0, 81.0), (20.0, 82.0), (20.0, 83.0), (20.0, 84.0), (20.0, 85.0), (20.0, 86.0), (20.0, 87.0), (20.0, 88.0), (20.0, 89.0), (20.0, 90.0), (20.0, 91.0), (20.0, 92.0), (20.0, 93.0), (20.0, 94.0), (20.0, 95.0), (20.0, 96.0), (21.0, 69.0), (21.0, 70.0), (21.0, 71.0), (21.0, 72.0), (21.0, 73.0), (21.0, 74.0), (21.0, 75.0), (21.0, 76.0), (21.0, 77.0), (21.0, 78.0), (21.0, 79.0), (21.0, 80.0), (21.0, 81.0), (21.0, 82.0), (21.0, 83.0), (21.0, 84.0), (21.0, 85.0), (21.0, 86.0), (21.0, 87.0), (21.0, 88.0), (21.0, 89.0), (21.0, 90.0), (21.0, 91.0), (21.0, 92.0), (21.0, 93.0), (21.0, 94.0), (21.0, 95.0), (21.0, 96.0), (22.0, 69.0), (22.0, 70.0), (22.0, 71.0), (22.0, 72.0), (22.0, 73.0), (22.0, 74.0), (22.0, 75.0), (22.0, 76.0), (22.0, 77.0), (22.0, 78.0), (22.0, 79.0), (22.0, 80.0), (22.0, 81.0), (22.0, 82.0), (22.0, 83.0), (22.0, 84.0), (22.0, 85.0), (22.0, 86.0), (22.0, 87.0), (22.0, 88.0), (22.0, 89.0), (22.0, 90.0), (22.0, 91.0), (22.0, 92.0), (22.0, 93.0), (22.0, 94.0), (22.0, 95.0), (22.0, 96.0), (23.0, 69.0), (23.0, 70.0), (23.0, 71.0), (23.0, 72.0), (23.0, 73.0), (23.0, 74.0), (23.0, 75.0), (23.0, 76.0), (23.0, 77.0), (23.0, 78.0), (23.0, 79.0), (23.0, 80.0), (23.0, 81.0), (23.0, 82.0), (23.0, 83.0), (23.0, 84.0), (23.0, 85.0), (23.0, 86.0), (23.0, 87.0), (23.0, 88.0), (23.0, 89.0), (23.0, 90.0), (23.0, 91.0), (23.0, 92.0), (23.0, 93.0), (23.0, 94.0), (23.0, 95.0), (23.0, 96.0), (24.0, 69.0), (24.0, 70.0), (24.0, 71.0), (24.0, 72.0), (24.0, 73.0), (24.0, 74.0), (24.0, 75.0), (24.0, 76.0), (24.0, 77.0), (24.0, 78.0), (24.0, 79.0), (24.0, 80.0), (24.0, 81.0), (24.0, 82.0), (24.0, 83.0), (24.0, 84.0), (24.0, 85.0), (24.0, 86.0), (24.0, 87.0), (24.0, 88.0), (24.0, 89.0), (24.0, 90.0), (24.0, 91.0), (24.0, 92.0), (24.0, 93.0), (24.0, 94.0), (24.0, 95.0), (24.0, 96.0), (25.0, 69.0), (25.0, 70.0), (25.0, 71.0), (25.0, 72.0), (25.0, 73.0), (25.0, 74.0), (25.0, 75.0), (25.0, 76.0), (25.0, 77.0), (25.0, 78.0), (25.0, 79.0), (25.0, 80.0), (25.0, 81.0), (25.0, 82.0), (25.0, 83.0), (25.0, 84.0), (25.0, 85.0), (25.0, 86.0), (25.0, 87.0), (25.0, 88.0), (25.0, 89.0), (25.0, 90.0), (25.0, 91.0), (25.0, 92.0), (25.0, 93.0), (25.0, 94.0), (25.0, 95.0), (25.0, 96.0), (26.0, 69.0), (26.0, 70.0), (26.0, 71.0), (26.0, 72.0), (26.0, 73.0), (26.0, 74.0), (26.0, 75.0), (26.0, 76.0), (26.0, 77.0), (26.0, 78.0), (26.0, 79.0), (26.0, 80.0), (26.0, 81.0), (26.0, 82.0), (26.0, 83.0), (26.0, 84.0), (26.0, 85.0), (26.0, 86.0), (26.0, 87.0), (26.0, 88.0), (26.0, 89.0), (26.0, 90.0), (26.0, 91.0), (26.0, 92.0), (26.0, 93.0), (26.0, 94.0), (26.0, 95.0), (26.0, 96.0), (27.0, 69.0), (27.0, 70.0), (27.0, 71.0), (27.0, 72.0), (27.0, 73.0), (27.0, 74.0), (27.0, 75.0), (27.0, 76.0), (27.0, 77.0), (27.0, 78.0), (27.0, 79.0), (27.0, 80.0), (27.0, 81.0), (27.0, 82.0), (27.0, 83.0), (27.0, 84.0), (27.0, 85.0), (27.0, 86.0), (27.0, 87.0), (27.0, 88.0), (27.0, 89.0), (27.0, 90.0), (27.0, 91.0), (27.0, 92.0), (27.0, 93.0), (27.0, 94.0), (27.0, 95.0), (27.0, 96.0), (28.0, 69.0), (28.0, 70.0), (28.0, 71.0), (28.0, 72.0), (28.0, 73.0), (28.0, 74.0), (28.0, 75.0), (28.0, 76.0), (28.0, 77.0), (28.0, 78.0), (28.0, 79.0), (28.0, 80.0), (28.0, 81.0), (28.0, 82.0), (28.0, 83.0), (28.0, 84.0), (28.0, 85.0), (28.0, 86.0), (28.0, 87.0), (28.0, 88.0), (28.0, 89.0), (28.0, 90.0), (28.0, 91.0), (28.0, 92.0), (28.0, 93.0), (28.0, 94.0), (28.0, 95.0), (28.0, 96.0), (29.0, 69.0), (29.0, 70.0), (29.0, 71.0), (29.0, 72.0), (29.0, 73.0), (29.0, 74.0), (29.0, 75.0), (29.0, 76.0), (29.0, 77.0), (29.0, 78.0), (29.0, 79.0), (29.0, 80.0), (29.0, 81.0), (29.0, 82.0), (29.0, 83.0), (29.0, 84.0), (29.0, 85.0), (29.0, 86.0), (29.0, 87.0), (29.0, 88.0), (29.0, 89.0), (29.0, 90.0), (29.0, 91.0), (29.0, 92.0), (29.0, 93.0), (29.0, 94.0), (29.0, 95.0), (29.0, 96.0), (30.0, 69.0), (30.0, 70.0), (30.0, 71.0), (30.0, 72.0), (30.0, 73.0), (30.0, 74.0), (30.0, 75.0), (30.0, 76.0), (30.0, 77.0), (30.0, 78.0), (30.0, 79.0), (30.0, 80.0), (30.0, 81.0), (30.0, 82.0), (30.0, 83.0), (30.0, 84.0), (30.0, 85.0), (30.0, 86.0), (30.0, 87.0), (30.0, 88.0), (30.0, 89.0), (30.0, 90.0), (30.0, 91.0), (30.0, 92.0), (30.0, 93.0), (30.0, 94.0), (30.0, 95.0), (30.0, 96.0), (31.0, 69.0), (31.0, 70.0), (31.0, 71.0), (31.0, 72.0), (31.0, 73.0), (31.0, 74.0), (31.0, 75.0), (31.0, 76.0), (31.0, 77.0), (31.0, 78.0), (31.0, 79.0), (31.0, 80.0), (31.0, 81.0), (31.0, 82.0), (31.0, 83.0), (31.0, 84.0), (31.0, 85.0), (31.0, 86.0), (31.0, 87.0), (31.0, 88.0), (31.0, 89.0), (31.0, 90.0), (31.0, 91.0), (31.0, 92.0), (31.0, 93.0), (31.0, 94.0), (31.0, 95.0), (31.0, 96.0), (32.0, 69.0), (32.0, 70.0), (32.0, 71.0), (32.0, 72.0), (32.0, 73.0), (32.0, 74.0), (32.0, 75.0), (32.0, 76.0), (32.0, 77.0), (32.0, 78.0), (32.0, 79.0), (32.0, 80.0), (32.0, 81.0), (32.0, 82.0), (32.0, 83.0), (32.0, 84.0), (32.0, 85.0), (32.0, 86.0), (32.0, 87.0), (32.0, 88.0), (32.0, 89.0), (32.0, 90.0), (32.0, 91.0), (32.0, 92.0), (32.0, 93.0), (32.0, 94.0), (32.0, 95.0), (32.0, 96.0), (33.0, 69.0), (33.0, 70.0), (33.0, 71.0), (33.0, 72.0), (33.0, 73.0), (33.0, 74.0), (33.0, 75.0), (33.0, 76.0), (33.0, 77.0), (33.0, 78.0), (33.0, 79.0), (33.0, 80.0), (33.0, 81.0), (33.0, 82.0), (33.0, 83.0), (33.0, 84.0), (33.0, 85.0), (33.0, 86.0), (33.0, 87.0), (33.0, 88.0), (33.0, 89.0), (33.0, 90.0), (33.0, 91.0), (33.0, 92.0), (33.0, 93.0), (33.0, 94.0), (33.0, 95.0), (33.0, 96.0), (34.0, 69.0), (34.0, 70.0), (34.0, 71.0), (34.0, 72.0), (34.0, 73.0), (34.0, 74.0), (34.0, 75.0), (34.0, 76.0), (34.0, 77.0), (34.0, 78.0), (34.0, 79.0), (34.0, 80.0), (34.0, 81.0), (34.0, 82.0), (34.0, 83.0), (34.0, 84.0), (34.0, 85.0), (34.0, 86.0), (34.0, 87.0), (34.0, 88.0), (34.0, 89.0), (34.0, 90.0), (34.0, 91.0), (34.0, 92.0), (34.0, 93.0), (34.0, 94.0), (34.0, 95.0), (34.0, 96.0), (35.0, 69.0), (35.0, 70.0), (35.0, 71.0), (35.0, 72.0), (35.0, 73.0), (35.0, 74.0), (35.0, 75.0), (35.0, 76.0), (35.0, 77.0), (35.0, 78.0), (35.0, 79.0), (35.0, 80.0), (35.0, 81.0), (35.0, 82.0), (35.0, 83.0), (35.0, 84.0), (35.0, 85.0), (35.0, 86.0), (35.0, 87.0), (35.0, 88.0), (35.0, 89.0), (35.0, 90.0), (35.0, 91.0), (35.0, 92.0), (35.0, 93.0), (35.0, 94.0), (35.0, 95.0), (35.0, 96.0), (36.0, 69.0), (36.0, 70.0), (36.0, 71.0), (36.0, 72.0), (36.0, 73.0), (36.0, 74.0), (36.0, 75.0), (36.0, 76.0), (36.0, 77.0), (36.0, 78.0), (36.0, 79.0), (36.0, 80.0), (36.0, 81.0), (36.0, 82.0), (36.0, 83.0), (36.0, 84.0), (36.0, 85.0), (36.0, 86.0), (36.0, 87.0), (36.0, 88.0), (36.0, 89.0), (36.0, 90.0), (36.0, 91.0), (36.0, 92.0), (36.0, 93.0), (36.0, 94.0), (36.0, 95.0), (36.0, 96.0)]\n",
            "812\n"
          ]
        }
      ]
    },
    {
      "cell_type": "code",
      "source": [
        "for lat, lon in lat_lon_pairs:\n",
        "  file_name = f\"tmax_{lat}_{lon}.csv\"\n",
        "  data2.to_csv(file_name, lat, lon, path2)"
      ],
      "metadata": {
        "id": "umSefB8SyazP"
      },
      "execution_count": null,
      "outputs": []
    },
    {
      "cell_type": "code",
      "source": [
        "path2 = \"/content/drive/MyDrive/\""
      ],
      "metadata": {
        "id": "72wzE_UB9fsb"
      },
      "execution_count": null,
      "outputs": []
    },
    {
      "cell_type": "code",
      "source": [
        "data3 = imd.open_data('tmin', start_yr, end_yr, fn_format='yearwise', file_dir=path)\n",
        "for lat, lon in lat_lon_pairs:\n",
        "  file_name = f\"tmin_{lat}_{lon}.csv\"\n",
        "  data3.to_csv(file_name, lat, lon, path2)"
      ],
      "metadata": {
        "id": "QPtQiLlZ0Uf0"
      },
      "execution_count": null,
      "outputs": []
    },
    {
      "cell_type": "code",
      "source": [
        "data1 = imd.open_data('rain', start_yr, end_yr, fn_format='yearwise', file_dir=path)\n",
        "for lat, lon in lat_lon_pairs:\n",
        "  file_name = f\"rain_{lat}_{lon}.csv\"\n",
        "  data1.to_csv(file_name, lat, lon, path2)"
      ],
      "metadata": {
        "id": "eNrR2Air03Z4"
      },
      "execution_count": null,
      "outputs": []
    },
    {
      "cell_type": "code",
      "source": [],
      "metadata": {
        "id": "KWfg0IlbxXdi"
      },
      "execution_count": null,
      "outputs": []
    },
    {
      "cell_type": "code",
      "source": [
        "import pandas as pd\n",
        "import glob\n",
        "import os\n",
        "\n",
        "# Define the directory containing the CSV files  # Change this to your actual path\n",
        "all_files = glob.glob(os.path.join(path, \"tmax*\"))  # Get all CSV files\n",
        "\n",
        "# List to store dataframes\n",
        "dfs = []\n",
        "\n",
        "for file in all_files:\n",
        "    df = pd.read_csv(file)  # Read CSV file\n",
        "\n",
        "    # Extract latitude and longitude from the second column name\n",
        "    lat_lon = df.columns[1]  # The second column has lat lon\n",
        "    df.columns = [\"DateTime\", f\"{lat_lon.replace(' ', '_')}\"]  # Rename columns\n",
        "\n",
        "    dfs.append(df)\n",
        "\n",
        "# Merge all dataframes on DateTime\n",
        "merged_df = dfs[0]\n",
        "for df in dfs[1:]:\n",
        "    merged_df = pd.merge(merged_df, df, on=\"DateTime\", how=\"outer\")\n",
        "\n",
        "# Save merged data\n",
        "merged_df.to_csv(\"tmax.csv\", index=False)\n",
        "\n",
        "print(\"Merged CSV saved as 'merged_data_tmax.csv'\")"
      ],
      "metadata": {
        "id": "P7vqLq3O1IT1",
        "colab": {
          "base_uri": "https://localhost:8080/"
        },
        "outputId": "e4b45164-2fd1-4957-d23b-e39359897dd6"
      },
      "execution_count": null,
      "outputs": [
        {
          "output_type": "stream",
          "name": "stdout",
          "text": [
            "Merged CSV saved as 'merged_data_tmax.csv'\n"
          ]
        }
      ]
    },
    {
      "cell_type": "code",
      "source": [
        "import pandas as pd\n",
        "\n",
        "# Load the wide format file\n",
        "df = pd.read_csv('rain.csv')\n",
        "\n",
        "# Melt the dataframe to long format\n",
        "df_long = df.melt(id_vars=['DateTime'], var_name='Lat_Lon', value_name='rain')\n",
        "\n",
        "# Split 'Lat_Lon' into 'Latitude' and 'Longitude'\n",
        "df_long[['Latitude', 'Longitude']] = df_long['Lat_Lon'].str.split('_', expand=True)\n",
        "\n",
        "# Drop the original 'Lat_Lon' column\n",
        "df_long.drop(columns='Lat_Lon', inplace=True)\n",
        "\n",
        "# Reorder columns and convert to proper types\n",
        "df_long = df_long[['DateTime', 'Latitude', 'Longitude', 'rain']]\n",
        "df_long.rename(columns={'DateTime': 'Date'}, inplace=True)\n",
        "df_long['Latitude'] = df_long['Latitude'].astype(float)\n",
        "df_long['Longitude'] = df_long['Longitude'].astype(float)\n",
        "df_long['rain'] = pd.to_numeric(df_long['rain'], errors='coerce')  # Handle '99.9' etc.\n",
        "\n",
        "# Optionally filter out bad values like 99.9 (if they are missing data)\n",
        "#df_long = df_long[df_long['rain'] < 60]\n",
        "\n",
        "# Save the long format CSV\n",
        "df_long.to_csv('long_format_rain.csv', index=False)\n"
      ],
      "metadata": {
        "id": "ZigQ7AfW0_kE"
      },
      "execution_count": null,
      "outputs": []
    },
    {
      "cell_type": "code",
      "source": [
        "import pandas as pd\n",
        "\n",
        "# Load the long-format CSVs\n",
        "tmin_df = pd.read_csv('long_format_tmin.csv')\n",
        "tmax_df = pd.read_csv('long_format_tmax.csv')\n",
        "rain_df = pd.read_csv('long_format_rain.csv')\n",
        "\n",
        "# Rename value columns to distinguish them\n",
        "tmin_df.rename(columns={'Tmin': 'Tmin'}, inplace=True)\n",
        "tmax_df.rename(columns={'Tmax': 'Tmax'}, inplace=True)\n",
        "rain_df.rename(columns={'Rain': 'Rain'}, inplace=True)\n",
        "\n",
        "# Merge Tmin and Tmax\n",
        "merged_df = pd.merge(tmin_df, tmax_df, on=['Date', 'Latitude', 'Longitude'])\n",
        "\n",
        "# Merge the result with Rain\n",
        "merged_df = pd.merge(merged_df, rain_df, on=['Date', 'Latitude', 'Longitude'])\n",
        "\n",
        "merged_df.to_csv('merged_climate_data.csv', index=False)\n"
      ],
      "metadata": {
        "id": "zf-6cRjH2Pjz"
      },
      "execution_count": null,
      "outputs": []
    }
  ]
}